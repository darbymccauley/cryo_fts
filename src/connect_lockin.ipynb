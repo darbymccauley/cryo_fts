{
 "cells": [
  {
   "cell_type": "code",
   "execution_count": 1,
   "id": "a07b3a0d",
   "metadata": {},
   "outputs": [
    {
     "name": "stdout",
     "output_type": "stream",
     "text": [
      "Established connection to Prologix GPIB-USB Controller version 6.101 on COM5\n"
     ]
    }
   ],
   "source": [
    "from lockin import LockinController\n",
    "import time\n",
    "lockin = LockinController(gpib_address=8)"
   ]
  },
  {
   "cell_type": "code",
   "execution_count": 2,
   "id": "f7c055ff",
   "metadata": {},
   "outputs": [
    {
     "name": "stdout",
     "output_type": "stream",
     "text": [
      "Lock-in ID: Stanford_Research_Systems,SR865A,006369,1.55\n"
     ]
    }
   ],
   "source": [
    "lockin.init()"
   ]
  },
  {
   "cell_type": "code",
   "execution_count": 3,
   "id": "0112a0cb",
   "metadata": {},
   "outputs": [
    {
     "name": "stdout",
     "output_type": "stream",
     "text": [
      "Reference Frequency (Hz): 1220.703125\n"
     ]
    }
   ],
   "source": [
    "freq = lockin.write('FREQ?', read=True)\n",
    "print(\"Reference Frequency (Hz):\", freq)"
   ]
  },
  {
   "cell_type": "code",
   "execution_count": 4,
   "id": "95f7d708",
   "metadata": {},
   "outputs": [
    {
     "name": "stdout",
     "output_type": "stream",
     "text": [
      "12340\n",
      "19\n",
      "8\n",
      "0\n"
     ]
    }
   ],
   "source": [
    "lockin.write('FREQINT 12340')\n",
    "freq = lockin.write('FREQINT?', read=True)\n",
    "print(freq)\n",
    "lockin.write('SCAL 19')\n",
    "sens = lockin.write('SCAL?', read=True)\n",
    "print(sens)\n",
    "lockin.write('OFLT 8')\n",
    "oflt = lockin.write('OFLT?', read=True)\n",
    "print(oflt)\n",
    "lockin.write('OFSL 0')\n",
    "ofsl = lockin.write('OFSL?', read=True)\n",
    "print(ofsl)"
   ]
  },
  {
   "cell_type": "code",
   "execution_count": 5,
   "id": "32ba18f2",
   "metadata": {},
   "outputs": [
    {
     "data": {
      "text/plain": [
       "(2.7275558523e-07, -2.7582169082e-07, 3.798461421e-07, -24.900402069)"
      ]
     },
     "execution_count": 5,
     "metadata": {},
     "output_type": "execute_result"
    }
   ],
   "source": [
    "lockin.get_x_y_r_theta()"
   ]
  },
  {
   "cell_type": "code",
   "execution_count": 6,
   "id": "f2d28252",
   "metadata": {},
   "outputs": [],
   "source": [
    "lockin.set_freq(800)"
   ]
  },
  {
   "cell_type": "code",
   "execution_count": 7,
   "id": "4897a052",
   "metadata": {},
   "outputs": [
    {
     "data": {
      "text/plain": [
       "1220.703125"
      ]
     },
     "execution_count": 7,
     "metadata": {},
     "output_type": "execute_result"
    }
   ],
   "source": [
    "lockin.get_freq()"
   ]
  },
  {
   "cell_type": "code",
   "execution_count": 8,
   "id": "d002df2b",
   "metadata": {},
   "outputs": [
    {
     "data": {
      "text/plain": [
       "0.012299999595"
      ]
     },
     "execution_count": 8,
     "metadata": {},
     "output_type": "execute_result"
    }
   ],
   "source": [
    "lockin.get_amp()"
   ]
  },
  {
   "cell_type": "code",
   "execution_count": 9,
   "id": "bf4e1a26",
   "metadata": {},
   "outputs": [],
   "source": [
    "lockin.set_amp(0.0123)"
   ]
  },
  {
   "cell_type": "code",
   "execution_count": 12,
   "id": "7b692c39",
   "metadata": {},
   "outputs": [
    {
     "data": {
      "text/plain": [
       "8.0"
      ]
     },
     "execution_count": 12,
     "metadata": {},
     "output_type": "execute_result"
    }
   ],
   "source": [
    "lockin.set_timeconstant(8)\n",
    "lockin.get_timeconstant()"
   ]
  },
  {
   "cell_type": "code",
   "execution_count": null,
   "id": "97301d9d",
   "metadata": {},
   "outputs": [],
   "source": []
  }
 ],
 "metadata": {
  "kernelspec": {
   "display_name": "fts",
   "language": "python",
   "name": "python3"
  },
  "language_info": {
   "codemirror_mode": {
    "name": "ipython",
    "version": 3
   },
   "file_extension": ".py",
   "mimetype": "text/x-python",
   "name": "python",
   "nbconvert_exporter": "python",
   "pygments_lexer": "ipython3",
   "version": "3.13.5"
  }
 },
 "nbformat": 4,
 "nbformat_minor": 5
}
