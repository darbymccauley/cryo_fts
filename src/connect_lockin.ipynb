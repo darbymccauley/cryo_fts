{
 "cells": [
  {
   "cell_type": "code",
   "execution_count": 1,
   "id": "a07b3a0d",
   "metadata": {},
   "outputs": [
    {
     "name": "stdout",
     "output_type": "stream",
     "text": [
      "Established connection to Prologix GPIB-USB Controller version 6.101 on COM5\n"
     ]
    }
   ],
   "source": [
    "from lockin import LockinController\n",
    "import time\n",
    "lockin = LockinController(gpib_address=8)"
   ]
  },
  {
   "cell_type": "code",
   "execution_count": 2,
   "id": "f7c055ff",
   "metadata": {},
   "outputs": [
    {
     "name": "stdout",
     "output_type": "stream",
     "text": [
      "Lock-in ID: Stanford_Research_Systems,SR865A,006369,1.55\n"
     ]
    }
   ],
   "source": [
    "lockin.init()"
   ]
  },
  {
   "cell_type": "code",
   "execution_count": 3,
   "id": "0112a0cb",
   "metadata": {},
   "outputs": [
    {
     "name": "stdout",
     "output_type": "stream",
     "text": [
      "Reference Frequency (Hz): 1220.703125\n"
     ]
    }
   ],
   "source": [
    "freq = lockin.write('FREQ?', read=True)\n",
    "print(\"Reference Frequency (Hz):\", freq)"
   ]
  },
  {
   "cell_type": "code",
   "execution_count": 4,
   "id": "32ba18f2",
   "metadata": {},
   "outputs": [
    {
     "data": {
      "text/plain": [
       "(-1.8606628771e-07, -3.4590780729e-07, 3.9277585984e-07, -118.27611542)"
      ]
     },
     "execution_count": 4,
     "metadata": {},
     "output_type": "execute_result"
    }
   ],
   "source": [
    "lockin.get_x_y_r_theta()"
   ]
  },
  {
   "cell_type": "code",
   "execution_count": 13,
   "id": "f2d28252",
   "metadata": {},
   "outputs": [
    {
     "data": {
      "text/plain": [
       "1220.703125"
      ]
     },
     "execution_count": 13,
     "metadata": {},
     "output_type": "execute_result"
    }
   ],
   "source": [
    "lockin.set_freq(900)\n",
    "lockin.get_freq()"
   ]
  },
  {
   "cell_type": "code",
   "execution_count": 7,
   "id": "d002df2b",
   "metadata": {},
   "outputs": [
    {
     "data": {
      "text/plain": [
       "0.012299999595"
      ]
     },
     "execution_count": 7,
     "metadata": {},
     "output_type": "execute_result"
    }
   ],
   "source": [
    "lockin.get_amp()"
   ]
  },
  {
   "cell_type": "code",
   "execution_count": 8,
   "id": "bf4e1a26",
   "metadata": {},
   "outputs": [],
   "source": [
    "lockin.set_amp(0.0123)"
   ]
  },
  {
   "cell_type": "code",
   "execution_count": 9,
   "id": "7b692c39",
   "metadata": {},
   "outputs": [
    {
     "data": {
      "text/plain": [
       "8.0"
      ]
     },
     "execution_count": 9,
     "metadata": {},
     "output_type": "execute_result"
    }
   ],
   "source": [
    "lockin.set_timeconstant(8)\n",
    "lockin.get_timeconstant()"
   ]
  },
  {
   "cell_type": "code",
   "execution_count": 10,
   "id": "97301d9d",
   "metadata": {},
   "outputs": [
    {
     "data": {
      "text/plain": [
       "20.0"
      ]
     },
     "execution_count": 10,
     "metadata": {},
     "output_type": "execute_result"
    }
   ],
   "source": [
    "lockin.set_sens(20)\n",
    "lockin.get_sens()"
   ]
  },
  {
   "cell_type": "code",
   "execution_count": 11,
   "id": "c0756f71",
   "metadata": {},
   "outputs": [
    {
     "name": "stdout",
     "output_type": "stream",
     "text": [
      "Continuous transmission started.\n",
      "Continuous transmission stopped.\n"
     ]
    }
   ],
   "source": [
    "lockin.start_transmission(sample_rate= 10)\n",
    "time.sleep(5)\n",
    "lockin.stop_transmission()\n"
   ]
  },
  {
   "cell_type": "code",
   "execution_count": 12,
   "id": "ba2e3a19",
   "metadata": {},
   "outputs": [
    {
     "name": "stdout",
     "output_type": "stream",
     "text": [
      "[{'timestamp': 1757529187.470019, 'x': 2.9268843349e-08, 'y': -7.4730252209e-08, 'r': 8.0257557045e-08, 'theta': -68.611709595}, {'timestamp': 1757529187.5998976, 'x': -2.1412201079e-07, 'y': 1.0537444695e-07, 'r': 2.3864620857e-07, 'theta': 153.79711914}, {'timestamp': 1757529187.7294154, 'x': -2.1563337782e-08, 'y': -3.297438127e-07, 'r': 3.3044810266e-07, 'theta': -93.741477966}, {'timestamp': 1757529187.860358, 'x': 3.2843144027e-07, 'y': 1.3807711241e-07, 'r': 3.5627587636e-07, 'theta': 22.802558899}, {'timestamp': 1757529187.992044, 'x': -3.9497979287e-07, 'y': -5.1216488828e-08, 'r': 3.9828654508e-07, 'theta': -172.61174011}, {'timestamp': 1757529188.1219149, 'x': 2.3054724352e-07, 'y': 2.3944480176e-07, 'r': 3.323941371e-07, 'theta': 46.08455658}, {'timestamp': 1757529188.2507906, 'x': -2.5191283726e-07, 'y': -8.9894548694e-08, 'r': 2.6747167681e-07, 'theta': -160.36116028}, {'timestamp': 1757529188.3785262, 'x': 1.0247199356e-07, 'y': -1.2306102803e-07, 'r': 1.6013908066e-07, 'theta': -50.2161026}, {'timestamp': 1757529188.5055718, 'x': 5.7883536186e-08, 'y': -3.6875528053e-07, 'r': 3.7327060909e-07, 'theta': -81.079071045}, {'timestamp': 1757529188.636623, 'x': 1.2497362256e-08, 'y': 1.7181699263e-07, 'r': 1.7227090154e-07, 'theta': 85.839820862}, {'timestamp': 1757529188.766121, 'x': 1.4474245802e-08, 'y': -2.9564213833e-07, 'r': 2.959962444e-07, 'theta': -87.197105408}, {'timestamp': 1757529188.8973937, 'x': 6.4594893878e-09, 'y': 4.297201599e-07, 'r': 4.2976870418e-07, 'theta': 89.138801575}, {'timestamp': 1757529189.0280302, 'x': -1.0905100112e-07, 'y': -3.8257616097e-07, 'r': 3.9781482997e-07, 'theta': -105.90987396}, {'timestamp': 1757529189.1568458, 'x': 2.1527138472e-07, 'y': -2.2955332213e-07, 'r': 3.1470062822e-07, 'theta': -46.838954926}, {'timestamp': 1757529189.2863538, 'x': 2.405035282e-08, 'y': 1.9477208468e-07, 'r': 1.9625133518e-07, 'theta': 82.960769653}, {'timestamp': 1757529189.415209, 'x': -2.0857245886e-07, 'y': -3.7357219185e-07, 'r': 4.2785353571e-07, 'theta': -119.17545319}, {'timestamp': 1757529189.5475163, 'x': -2.6579274959e-07, 'y': 6.8604556702e-08, 'r': 2.7450386142e-07, 'theta': 165.52708435}, {'timestamp': 1757529189.6781847, 'x': -2.7683799431e-07, 'y': -2.4900671747e-07, 'r': 3.7234877936e-07, 'theta': -138.02964783}, {'timestamp': 1757529189.8069918, 'x': 4.9846416772e-08, 'y': -4.8874471759e-07, 'r': 4.9127999091e-07, 'theta': -84.176605225}, {'timestamp': 1757529189.9363096, 'x': -3.7876557002e-08, 'y': 3.5976182744e-07, 'r': 3.6175021023e-07, 'theta': 96.010093689}, {'timestamp': 1757529190.0678065, 'x': 3.3950809097e-07, 'y': -4.6715804558e-08, 'r': 3.4270701121e-07, 'theta': -7.8346157074}, {'timestamp': 1757529190.1950476, 'x': -3.7385126461e-07, 'y': -8.2880731611e-08, 'r': 3.8292816384e-07, 'theta': -167.5}, {'timestamp': 1757529190.3275974, 'x': -1.7306072664e-07, 'y': -2.8738423907e-07, 'r': 3.3546936606e-07, 'theta': -121.05604553}, {'timestamp': 1757529190.45622, 'x': 2.1459401012e-07, 'y': -2.4435138357e-07, 'r': 3.252048657e-07, 'theta': -48.709785461}, {'timestamp': 1757529190.5937817, 'x': -2.3157748785e-07, 'y': 1.605201021e-07, 'r': 2.8177089462e-07, 'theta': 145.27186584}, {'timestamp': 1757529190.7264433, 'x': 3.266762576e-07, 'y': -2.449743306e-07, 'r': 4.0832557602e-07, 'theta': -36.866207123}, {'timestamp': 1757529190.8558497, 'x': -2.2195474969e-07, 'y': 3.0016605024e-07, 'r': 3.7331432168e-07, 'theta': 126.48068237}, {'timestamp': 1757529190.9885807, 'x': 2.3424411211e-07, 'y': 2.8993503065e-07, 'r': 3.7273667886e-07, 'theta': 51.064582825}, {'timestamp': 1757529191.118768, 'x': -2.453854222e-07, 'y': -1.418713822e-07, 'r': 2.8344575753e-07, 'theta': -149.96531677}, {'timestamp': 1757529191.2480898, 'x': 1.9407450225e-07, 'y': -1.8546951708e-07, 'r': 2.6844710987e-07, 'theta': -43.701213837}, {'timestamp': 1757529191.3801801, 'x': -1.089442847e-07, 'y': -2.0496945297e-07, 'r': 2.3212352573e-07, 'theta': -117.99129486}, {'timestamp': 1757529191.5147343, 'x': -1.7131235097e-07, 'y': -4.0767531573e-07, 'r': 4.4220709583e-07, 'theta': -112.79299164}, {'timestamp': 1757529191.6446652, 'x': 2.4831899736e-07, 'y': -3.3215380313e-07, 'r': 4.1471491841e-07, 'theta': -53.21811676}, {'timestamp': 1757529191.7790725, 'x': 1.6391062729e-07, 'y': 2.1478309975e-07, 'r': 2.7018228366e-07, 'theta': 52.651119232}, {'timestamp': 1757529191.9097624, 'x': -2.6770453587e-07, 'y': 1.6595489427e-08, 'r': 2.682184288e-07, 'theta': 176.45266724}, {'timestamp': 1757529192.0370126, 'x': -3.7054832092e-07, 'y': -5.3854762427e-08, 'r': 3.7444144141e-07, 'theta': -171.7306366}, {'timestamp': 1757529192.1688523, 'x': 1.5454629931e-07, 'y': 1.772604179e-07, 'r': 2.3517189618e-07, 'theta': 48.916114807}, {'timestamp': 1757529192.3083494, 'x': -3.9425307818e-07, 'y': -4.4232287166e-08, 'r': 3.9672664798e-07, 'theta': -173.59860229}, {'timestamp': 1757529192.439603, 'x': -1.9693464637e-08, 'y': 2.8621667525e-07, 'r': 2.8689336773e-07, 'theta': 93.936088562}]\n"
     ]
    }
   ],
   "source": [
    "data = lockin.get_all()\n",
    "print(data)"
   ]
  },
  {
   "cell_type": "code",
   "execution_count": null,
   "id": "8be592b7",
   "metadata": {},
   "outputs": [],
   "source": []
  }
 ],
 "metadata": {
  "kernelspec": {
   "display_name": "fts",
   "language": "python",
   "name": "python3"
  },
  "language_info": {
   "codemirror_mode": {
    "name": "ipython",
    "version": 3
   },
   "file_extension": ".py",
   "mimetype": "text/x-python",
   "name": "python",
   "nbconvert_exporter": "python",
   "pygments_lexer": "ipython3",
   "version": "3.13.5"
  }
 },
 "nbformat": 4,
 "nbformat_minor": 5
}
