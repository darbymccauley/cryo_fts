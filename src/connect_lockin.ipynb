{
 "cells": [
  {
   "cell_type": "code",
   "execution_count": 1,
   "id": "a07b3a0d",
   "metadata": {},
   "outputs": [
    {
     "name": "stdout",
     "output_type": "stream",
     "text": [
      "Established connection to Prologix GPIB-USB Controller version 6.101 on COM5\n"
     ]
    }
   ],
   "source": [
    "from lockin import LockinController\n",
    "import time\n",
    "lockin = LockinController(gpib_address=8)"
   ]
  },
  {
   "cell_type": "code",
   "execution_count": 2,
   "id": "f7c055ff",
   "metadata": {},
   "outputs": [
    {
     "name": "stdout",
     "output_type": "stream",
     "text": [
      "Lock-in ID: Stanford_Research_Systems,SR865A,006369,1.55\n"
     ]
    }
   ],
   "source": [
    "lockin.init()"
   ]
  },
  {
   "cell_type": "code",
   "execution_count": 20,
   "id": "0112a0cb",
   "metadata": {},
   "outputs": [
    {
     "name": "stdout",
     "output_type": "stream",
     "text": [
      "Reference Frequency (Hz): 1220.703125\n"
     ]
    }
   ],
   "source": [
    "freq = lockin.write('FREQ?', read=True)\n",
    "print(\"Reference Frequency (Hz):\", freq)"
   ]
  },
  {
   "cell_type": "code",
   "execution_count": 21,
   "id": "95f7d708",
   "metadata": {},
   "outputs": [
    {
     "name": "stdout",
     "output_type": "stream",
     "text": [
      "12340\n"
     ]
    }
   ],
   "source": [
    "lockin.write('FREQINT 12340')\n",
    "freq = lockin.write('FREQINT?', read=True)\n",
    "print(freq)"
   ]
  },
  {
   "cell_type": "code",
   "execution_count": null,
   "id": "32ba18f2",
   "metadata": {},
   "outputs": [],
   "source": []
  }
 ],
 "metadata": {
  "kernelspec": {
   "display_name": "fts",
   "language": "python",
   "name": "python3"
  },
  "language_info": {
   "codemirror_mode": {
    "name": "ipython",
    "version": 3
   },
   "file_extension": ".py",
   "mimetype": "text/x-python",
   "name": "python",
   "nbconvert_exporter": "python",
   "pygments_lexer": "ipython3",
   "version": "3.13.5"
  }
 },
 "nbformat": 4,
 "nbformat_minor": 5
}
