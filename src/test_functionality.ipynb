{
 "cells": [
  {
   "cell_type": "code",
   "execution_count": 1,
   "id": "a07b3a0d",
   "metadata": {},
   "outputs": [
    {
     "name": "stdout",
     "output_type": "stream",
     "text": [
      "Established connection to Prologix GPIB-USB Controller version 6.101 on COM5\n"
     ]
    }
   ],
   "source": [
    "from lockin import LockinController\n",
    "from mirror import MirrorController\n",
    "import time\n",
    "lockin = LockinController(gpib_address=8)"
   ]
  },
  {
   "cell_type": "code",
   "execution_count": 2,
   "id": "f7c055ff",
   "metadata": {},
   "outputs": [
    {
     "name": "stdout",
     "output_type": "stream",
     "text": [
      "Lock-in ID: Stanford_Research_Systems,SR865A,006369,1.55\n"
     ]
    }
   ],
   "source": [
    "lockin.init()"
   ]
  },
  {
   "cell_type": "code",
   "execution_count": 3,
   "id": "0112a0cb",
   "metadata": {},
   "outputs": [
    {
     "name": "stdout",
     "output_type": "stream",
     "text": [
      "Reference Frequency (Hz): 1220.703125\n"
     ]
    }
   ],
   "source": [
    "freq = lockin.write('FREQ?', read=True)\n",
    "print(\"Reference Frequency (Hz):\", freq)"
   ]
  },
  {
   "cell_type": "code",
   "execution_count": 4,
   "id": "32ba18f2",
   "metadata": {},
   "outputs": [
    {
     "data": {
      "text/plain": [
       "(-2.6485375315e-07, -1.2226193746e-07, 2.9171133065e-07, -155.22096252)"
      ]
     },
     "execution_count": 4,
     "metadata": {},
     "output_type": "execute_result"
    }
   ],
   "source": [
    "lockin.get_x_y_r_theta()"
   ]
  },
  {
   "cell_type": "code",
   "execution_count": 5,
   "id": "f2d28252",
   "metadata": {},
   "outputs": [
    {
     "data": {
      "text/plain": [
       "1220.703125"
      ]
     },
     "execution_count": 5,
     "metadata": {},
     "output_type": "execute_result"
    }
   ],
   "source": [
    "lockin.set_freq(900)\n",
    "lockin.get_freq()"
   ]
  },
  {
   "cell_type": "code",
   "execution_count": 6,
   "id": "d002df2b",
   "metadata": {},
   "outputs": [
    {
     "data": {
      "text/plain": [
       "0.012299999595"
      ]
     },
     "execution_count": 6,
     "metadata": {},
     "output_type": "execute_result"
    }
   ],
   "source": [
    "lockin.get_amp()"
   ]
  },
  {
   "cell_type": "code",
   "execution_count": 7,
   "id": "bf4e1a26",
   "metadata": {},
   "outputs": [],
   "source": [
    "lockin.set_amp(0.0123)"
   ]
  },
  {
   "cell_type": "code",
   "execution_count": 8,
   "id": "7b692c39",
   "metadata": {},
   "outputs": [
    {
     "data": {
      "text/plain": [
       "8.0"
      ]
     },
     "execution_count": 8,
     "metadata": {},
     "output_type": "execute_result"
    }
   ],
   "source": [
    "lockin.set_timeconstant(8)\n",
    "lockin.get_timeconstant()"
   ]
  },
  {
   "cell_type": "code",
   "execution_count": 9,
   "id": "97301d9d",
   "metadata": {},
   "outputs": [
    {
     "data": {
      "text/plain": [
       "20.0"
      ]
     },
     "execution_count": 9,
     "metadata": {},
     "output_type": "execute_result"
    }
   ],
   "source": [
    "lockin.set_sens(20)\n",
    "lockin.get_sens()"
   ]
  },
  {
   "cell_type": "code",
   "execution_count": 10,
   "id": "c0756f71",
   "metadata": {},
   "outputs": [
    {
     "name": "stdout",
     "output_type": "stream",
     "text": [
      "Continuous transmission started.\n"
     ]
    },
    {
     "name": "stdout",
     "output_type": "stream",
     "text": [
      "Continuous transmission stopped.\n"
     ]
    }
   ],
   "source": [
    "lockin.start_transmission(sample_rate= 10)\n",
    "time.sleep(5)\n",
    "lockin.stop_transmission()\n"
   ]
  },
  {
   "cell_type": "code",
   "execution_count": 11,
   "id": "ba2e3a19",
   "metadata": {},
   "outputs": [
    {
     "name": "stdout",
     "output_type": "stream",
     "text": [
      "[{'timestamp': 1757603464.291503, 'x': 2.0637219222e-07, 'y': 3.047024677e-07, 'r': 3.6801233705e-07, 'theta': 55.890571594}, {'timestamp': 1757603464.4249828, 'x': -2.3458845533e-07, 'y': -2.3609166533e-07, 'r': 3.3282279333e-07, 'theta': -134.81700134}, {'timestamp': 1757603464.5646858, 'x': -1.7090881599e-08, 'y': 3.3427113522e-07, 'r': 3.3470777794e-07, 'theta': 92.926902771}, {'timestamp': 1757603464.6978931, 'x': 3.5881055283e-07, 'y': 9.740032425e-08, 'r': 3.7179540868e-07, 'theta': 15.187156677}, {'timestamp': 1757603464.826645, 'x': -2.3543510963e-07, 'y': 2.3417959483e-07, 'r': 3.320689359e-07, 'theta': 135.15316772}, {'timestamp': 1757603464.9564106, 'x': 2.6636271855e-07, 'y': -2.0565337877e-07, 'r': 3.3651511444e-07, 'theta': -37.671020508}, {'timestamp': 1757603465.0832098, 'x': 3.162879807e-07, 'y': -4.776265996e-07, 'r': 5.7285711819e-07, 'theta': -56.487171173}, {'timestamp': 1757603465.2184708, 'x': 7.4521331328e-08, 'y': -5.3358161267e-07, 'r': 5.3876038919e-07, 'theta': -82.049354553}, {'timestamp': 1757603465.3520007, 'x': 1.1581045811e-07, 'y': -2.7657694091e-07, 'r': 2.9984474281e-07, 'theta': -67.279579163}, {'timestamp': 1757603465.4844394, 'x': -3.9090309656e-07, 'y': -8.9490569621e-08, 'r': 4.010159671e-07, 'theta': -167.10531616}, {'timestamp': 1757603465.6110985, 'x': -6.0968609716e-08, 'y': -1.8934345292e-07, 'r': 1.9891736258e-07, 'theta': -107.84855652}, {'timestamp': 1757603465.7422879, 'x': 2.8407322361e-07, 'y': 8.6881968286e-08, 'r': 2.9706242799e-07, 'theta': 17.005912781}, {'timestamp': 1757603465.8719854, 'x': -3.8032828797e-07, 'y': -1.1630924668e-08, 'r': 3.8050612261e-07, 'theta': -178.24835205}, {'timestamp': 1757603466.0013638, 'x': -3.2621736068e-07, 'y': -3.6256807334e-07, 'r': 4.8772261607e-07, 'theta': -131.97900391}, {'timestamp': 1757603466.1316712, 'x': 1.2390799498e-07, 'y': 4.2976995474e-07, 'r': 4.4727551085e-07, 'theta': 73.917068481}, {'timestamp': 1757603466.25998, 'x': -2.9809348234e-07, 'y': -1.8937895163e-07, 'r': 3.5316301705e-07, 'theta': -147.57217407}, {'timestamp': 1757603466.3907795, 'x': 2.8170523692e-08, 'y': 4.1660976535e-07, 'r': 4.1756109681e-07, 'theta': 86.131629944}, {'timestamp': 1757603466.527286, 'x': -1.2849514519e-07, 'y': -2.332048723e-07, 'r': 2.662621057e-07, 'theta': -118.85461426}, {'timestamp': 1757603466.6570647, 'x': -4.3935108884e-09, 'y': -3.8588311213e-07, 'r': 3.8590812323e-07, 'theta': -90.652313232}, {'timestamp': 1757603466.7873569, 'x': 2.7471693897e-07, 'y': 2.1296537511e-07, 'r': 3.475969379e-07, 'theta': 37.783462524}, {'timestamp': 1757603466.9161189, 'x': 1.7735032998e-08, 'y': 3.8665456259e-07, 'r': 3.8706104988e-07, 'theta': 87.373794556}, {'timestamp': 1757603467.0438173, 'x': -2.1141522666e-07, 'y': -1.7643286299e-07, 'r': 2.7536330549e-07, 'theta': -140.15390015}, {'timestamp': 1757603467.1719854, 'x': -3.7834658428e-07, 'y': 6.7887306443e-08, 'r': 3.843888976e-07, 'theta': 169.82756042}, {'timestamp': 1757603467.303977, 'x': 4.3093891122e-07, 'y': -7.3221976038e-08, 'r': 4.3711534659e-07, 'theta': -9.6431818008}, {'timestamp': 1757603467.4342995, 'x': -3.3877718408e-08, 'y': -3.3437359548e-07, 'r': 3.3608540662e-07, 'theta': -95.78528595}, {'timestamp': 1757603467.5642316, 'x': 2.4366408979e-07, 'y': -3.9066030411e-08, 'r': 2.4677589749e-07, 'theta': -9.1085672379}, {'timestamp': 1757603467.693717, 'x': -1.1532036126e-07, 'y': -1.8170131e-07, 'r': 2.1520722271e-07, 'theta': -122.40206909}, {'timestamp': 1757603467.8207557, 'x': -2.6344170578e-07, 'y': -2.6424004318e-07, 'r': 3.7312779e-07, 'theta': -134.91331482}, {'timestamp': 1757603467.9533064, 'x': 2.6892857363e-07, 'y': 1.5048247803e-07, 'r': 3.0816806884e-07, 'theta': 29.229755402}, {'timestamp': 1757603468.082565, 'x': -1.8263831691e-07, 'y': -2.8270767416e-07, 'r': 3.3657150311e-07, 'theta': -122.86375427}, {'timestamp': 1757603468.2129724, 'x': 2.5046134056e-07, 'y': 2.304636979e-07, 'r': 3.4035923591e-07, 'theta': 42.618915558}, {'timestamp': 1757603468.3430178, 'x': -4.0429154069e-07, 'y': -1.2066560373e-07, 'r': 4.2191445004e-07, 'theta': -163.38163757}, {'timestamp': 1757603468.4706047, 'x': 2.3013608086e-07, 'y': -2.4506303475e-07, 'r': 3.361822678e-07, 'theta': -46.799182892}, {'timestamp': 1757603468.597993, 'x': -1.9905745319e-07, 'y': -2.9643857147e-07, 'r': 3.5707103052e-07, 'theta': -123.88121033}, {'timestamp': 1757603468.7298334, 'x': 5.4928126048e-08, 'y': 2.3844771135e-07, 'r': 2.4469250093e-07, 'theta': 77.027793884}, {'timestamp': 1757603468.8586593, 'x': -2.5737932674e-07, 'y': -4.2767410946e-07, 'r': 4.9914854117e-07, 'theta': -121.04001617}, {'timestamp': 1757603468.990447, 'x': -2.8428317478e-07, 'y': 2.0961810066e-08, 'r': 2.8505493788e-07, 'theta': 175.78286743}, {'timestamp': 1757603469.1220417, 'x': 3.8441058337e-07, 'y': -1.1368203445e-07, 'r': 4.0086794684e-07, 'theta': -16.474567413}, {'timestamp': 1757603469.2503133, 'x': 4.0267590862e-07, 'y': 2.1922211602e-07, 'r': 4.5848250352e-07, 'theta': 28.564458847}]\n"
     ]
    }
   ],
   "source": [
    "data = lockin.get_all()\n",
    "print(data)"
   ]
  },
  {
   "cell_type": "code",
   "execution_count": 12,
   "id": "8be592b7",
   "metadata": {},
   "outputs": [
    {
     "ename": "RuntimeError",
     "evalue": "Cannot connect to encoder.",
     "output_type": "error",
     "traceback": [
      "\u001b[31m---------------------------------------------------------------------------\u001b[39m",
      "\u001b[31mRuntimeError\u001b[39m                              Traceback (most recent call last)",
      "\u001b[36mCell\u001b[39m\u001b[36m \u001b[39m\u001b[32mIn[12]\u001b[39m\u001b[32m, line 4\u001b[39m\n\u001b[32m      1\u001b[39m \u001b[38;5;28;01mdef\u001b[39;00m\u001b[38;5;250m \u001b[39m\u001b[34mmy_data_handler\u001b[39m(data):\n\u001b[32m      2\u001b[39m     \u001b[38;5;28mprint\u001b[39m(data)\n\u001b[32m----> \u001b[39m\u001b[32m4\u001b[39m mirror = \u001b[43mMirrorController\u001b[49m\u001b[43m(\u001b[49m\u001b[43m)\u001b[49m\n\u001b[32m      5\u001b[39m mirror.init()\n\u001b[32m      6\u001b[39m mirror.scan_and_collect(velocity=\u001b[32m10\u001b[39m, data_callback=my_data_handler, sample_rate=\u001b[32m5\u001b[39m)\n",
      "\u001b[36mFile \u001b[39m\u001b[32mc:\\Users\\vnh2\\Desktop\\FTS\\cryo_fts\\src\\mirror.py:10\u001b[39m, in \u001b[36mMirrorController.__init__\u001b[39m\u001b[34m(self)\u001b[39m\n\u001b[32m      9\u001b[39m \u001b[38;5;28;01mdef\u001b[39;00m\u001b[38;5;250m \u001b[39m\u001b[34m__init__\u001b[39m(\u001b[38;5;28mself\u001b[39m):\n\u001b[32m---> \u001b[39m\u001b[32m10\u001b[39m     \u001b[38;5;28mself\u001b[39m.encoder = \u001b[43mencoder\u001b[49m\u001b[43m.\u001b[49m\u001b[43mEncoderController\u001b[49m\u001b[43m(\u001b[49m\u001b[43m)\u001b[49m\n\u001b[32m     11\u001b[39m     \u001b[38;5;28mself\u001b[39m.motor = motor.MotorController()\n\u001b[32m     12\u001b[39m     \u001b[38;5;28mself\u001b[39m.lockin = lockin.LockinController()\n",
      "\u001b[36mFile \u001b[39m\u001b[32mc:\\Users\\vnh2\\Desktop\\FTS\\cryo_fts\\src\\encoder.py:43\u001b[39m, in \u001b[36mEncoderController.__init__\u001b[39m\u001b[34m(self, baudrate, timeout)\u001b[39m\n\u001b[32m     41\u001b[39m         \u001b[38;5;28;01mcontinue\u001b[39;00m\n\u001b[32m     42\u001b[39m \u001b[38;5;28;01mif\u001b[39;00m \u001b[38;5;129;01mnot\u001b[39;00m \u001b[38;5;28mself\u001b[39m.device:\n\u001b[32m---> \u001b[39m\u001b[32m43\u001b[39m     \u001b[38;5;28;01mraise\u001b[39;00m \u001b[38;5;167;01mRuntimeError\u001b[39;00m(\u001b[33m'\u001b[39m\u001b[33mCannot connect to encoder.\u001b[39m\u001b[33m'\u001b[39m)\n",
      "\u001b[31mRuntimeError\u001b[39m: Cannot connect to encoder."
     ]
    }
   ],
   "source": [
    "def my_data_handler(data):\n",
    "    print(data)\n",
    "\n",
    "mirror = MirrorController()\n",
    "mirror.init()\n",
    "mirror.scan_and_collect(velocity=10, data_callback=my_data_handler, sample_rate=5)\n",
    "\n",
    "time.sleep(5)\n",
    "mirror.stop_scan()\n",
    "mirror.close()"
   ]
  }
 ],
 "metadata": {
  "kernelspec": {
   "display_name": "fts",
   "language": "python",
   "name": "python3"
  },
  "language_info": {
   "codemirror_mode": {
    "name": "ipython",
    "version": 3
   },
   "file_extension": ".py",
   "mimetype": "text/x-python",
   "name": "python",
   "nbconvert_exporter": "python",
   "pygments_lexer": "ipython3",
   "version": "3.13.5"
  }
 },
 "nbformat": 4,
 "nbformat_minor": 5
}
