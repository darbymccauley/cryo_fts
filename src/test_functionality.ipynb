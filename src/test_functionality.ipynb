{
 "cells": [
  {
   "cell_type": "code",
   "execution_count": 1,
   "id": "a07b3a0d",
   "metadata": {},
   "outputs": [
    {
     "name": "stdout",
     "output_type": "stream",
     "text": [
      "Established connection to Prologix GPIB-USB Controller version 6.101 on COM5\n",
      "Established connection to E201-9S V1.22 on COM4\n",
      "Established connection to Device 1 SN: 83850 (X-LSM200A-SV2) -> Connection 1 (ASCII Serial port: COM3) on Connection 1 (ASCII Serial port: COM3)\n"
     ]
    }
   ],
   "source": [
    "from lockin import LockinController\n",
    "from mirror import MirrorController\n",
    "from encoder import EncoderController\n",
    "import time\n",
    "import pandas as pd\n",
    "mirror = MirrorController()\n",
    "#lockin = LockinController(gpib_address=8)\n",
    "#encoder = EncoderController()"
   ]
  },
  {
   "cell_type": "code",
   "execution_count": 2,
   "id": "5ea41abd",
   "metadata": {},
   "outputs": [
    {
     "name": "stdout",
     "output_type": "stream",
     "text": [
      "COM4 STMicroelectronics Virtual COM Port (COM4)\n",
      "COM5 USB Serial Port (COM5)\n",
      "COM3 USB Serial Port (COM3)\n"
     ]
    }
   ],
   "source": [
    "import serial.tools.list_ports\n",
    "ports = list(serial.tools.list_ports.comports())\n",
    "for p in ports:\n",
    "    print(p.device, p.description)"
   ]
  },
  {
   "cell_type": "code",
   "execution_count": 2,
   "id": "e6e11779",
   "metadata": {},
   "outputs": [
    {
     "name": "stdout",
     "output_type": "stream",
     "text": [
      "Lock-in ID: Stanford_Research_Systems,SR865A,006369,1.55\n",
      "Continuous transmission started.\n",
      "Continuous transmission started.\n",
      "Continuous transmission stopped.\n",
      "Continuous transmission stopped.\n",
      "Saved scan data to ../scan_data/20250917_134434.csv\n",
      "Saved scan data to ../scan_data/20250917_134434.csv\n",
      "Encoder connection closed.\n",
      "Lock-in connection closed.\n"
     ]
    }
   ],
   "source": [
    "mirror.init()\n",
    "mirror.scan_and_collect(velocity=10, sample_rate=5)\n",
    "time.sleep(5) \n",
    "mirror.stop_scan()\n",
    "mirror.close()"
   ]
  },
  {
   "cell_type": "code",
   "execution_count": 2,
   "id": "f7c055ff",
   "metadata": {},
   "outputs": [
    {
     "name": "stdout",
     "output_type": "stream",
     "text": [
      "Lock-in ID: Stanford_Research_Systems,SR865A,006369,1.55\n"
     ]
    }
   ],
   "source": [
    "lockin.init()"
   ]
  },
  {
   "cell_type": "code",
   "execution_count": 9,
   "id": "0112a0cb",
   "metadata": {},
   "outputs": [
    {
     "name": "stdout",
     "output_type": "stream",
     "text": [
      "Reference Frequency (Hz): 47.946159363\n"
     ]
    }
   ],
   "source": [
    "freq = lockin.write('FREQ?', read=True)\n",
    "print(\"Reference Frequency (Hz):\", freq)"
   ]
  },
  {
   "cell_type": "code",
   "execution_count": null,
   "id": "32ba18f2",
   "metadata": {},
   "outputs": [
    {
     "data": {
      "text/plain": [
       "(5.379981971e-08, 1.5550888577e-07, 1.6455221896e-07, 70.916435242)"
      ]
     },
     "execution_count": 5,
     "metadata": {},
     "output_type": "execute_result"
    }
   ],
   "source": [
    "lockin.get_x_y_r_theta()"
   ]
  },
  {
   "cell_type": "code",
   "execution_count": null,
   "id": "f2d28252",
   "metadata": {},
   "outputs": [
    {
     "data": {
      "text/plain": [
       "1220.703125"
      ]
     },
     "execution_count": 6,
     "metadata": {},
     "output_type": "execute_result"
    }
   ],
   "source": [
    "lockin.set_freq(900)\n",
    "lockin.get_freq()"
   ]
  },
  {
   "cell_type": "code",
   "execution_count": null,
   "id": "d002df2b",
   "metadata": {},
   "outputs": [
    {
     "data": {
      "text/plain": [
       "0.012299999595"
      ]
     },
     "execution_count": 7,
     "metadata": {},
     "output_type": "execute_result"
    }
   ],
   "source": [
    "lockin.get_amp()"
   ]
  },
  {
   "cell_type": "code",
   "execution_count": null,
   "id": "bf4e1a26",
   "metadata": {},
   "outputs": [],
   "source": [
    "lockin.set_amp(0.0123)"
   ]
  },
  {
   "cell_type": "code",
   "execution_count": null,
   "id": "7b692c39",
   "metadata": {},
   "outputs": [
    {
     "data": {
      "text/plain": [
       "8.0"
      ]
     },
     "execution_count": 9,
     "metadata": {},
     "output_type": "execute_result"
    }
   ],
   "source": [
    "lockin.set_timeconstant(8)\n",
    "lockin.get_timeconstant()"
   ]
  },
  {
   "cell_type": "code",
   "execution_count": null,
   "id": "97301d9d",
   "metadata": {},
   "outputs": [
    {
     "data": {
      "text/plain": [
       "20.0"
      ]
     },
     "execution_count": 10,
     "metadata": {},
     "output_type": "execute_result"
    }
   ],
   "source": [
    "lockin.set_sens(20)\n",
    "lockin.get_sens()"
   ]
  },
  {
   "cell_type": "code",
   "execution_count": null,
   "id": "c0756f71",
   "metadata": {},
   "outputs": [
    {
     "name": "stdout",
     "output_type": "stream",
     "text": [
      "Continuous transmission started.\n",
      "Continuous transmission stopped.\n"
     ]
    }
   ],
   "source": [
    "lockin.start_transmission(sample_rate= 10)\n",
    "time.sleep(5)\n",
    "lockin.stop_transmission()\n"
   ]
  },
  {
   "cell_type": "code",
   "execution_count": null,
   "id": "ba2e3a19",
   "metadata": {},
   "outputs": [
    {
     "name": "stdout",
     "output_type": "stream",
     "text": [
      "[{'timestamp': 1757710578.700898, 'x': 2.6661496122e-07, 'y': -1.3448176617e-07, 'r': 2.9861161011e-07, 'theta': -26.766576767}, {'timestamp': 1757710578.8329692, 'x': -3.0689969321e-07, 'y': -1.8301832938e-07, 'r': 3.5732776382e-07, 'theta': -149.19044495}, {'timestamp': 1757710578.9624653, 'x': 2.4852823799e-07, 'y': 6.4983758818e-08, 'r': 2.5688356686e-07, 'theta': 14.653312683}, {'timestamp': 1757710579.0894275, 'x': 1.3779398955e-07, 'y': -2.1672694572e-07, 'r': 2.5682243177e-07, 'theta': -57.55198288}, {'timestamp': 1757710579.2189715, 'x': -4.6896735384e-09, 'y': -6.2719777816e-08, 'r': 6.2894855546e-08, 'theta': -94.276145935}, {'timestamp': 1757710579.350185, 'x': 3.6354239796e-07, 'y': -1.2987352704e-07, 'r': 3.8604432007e-07, 'theta': -19.658988953}, {'timestamp': 1757710579.4827163, 'x': -2.6979810386e-08, 'y': -2.4604887017e-07, 'r': 2.4752367267e-07, 'theta': -96.257606506}, {'timestamp': 1757710579.6223652, 'x': 1.8264447021e-07, 'y': 2.488822588e-07, 'r': 3.0870921819e-07, 'theta': 53.726581573}, {'timestamp': 1757710579.7516673, 'x': -1.3128778065e-08, 'y': -1.4960379247e-07, 'r': 1.5017876365e-07, 'theta': -95.01525116}, {'timestamp': 1757710579.8885827, 'x': -1.6490969301e-07, 'y': 1.3137285926e-08, 'r': 1.6543215509e-07, 'theta': 175.44522095}, {'timestamp': 1757710580.0158522, 'x': 1.0925170102e-07, 'y': 1.4871716303e-07, 'r': 1.8453383177e-07, 'theta': 53.697975159}, {'timestamp': 1757710580.1471171, 'x': -1.9109749871e-07, 'y': -3.4358745893e-07, 'r': 3.9315466438e-07, 'theta': -119.0820694}, {'timestamp': 1757710580.2769353, 'x': -5.0110518401e-08, 'y': -3.0623871794e-07, 'r': 3.1031149206e-07, 'theta': -99.293067932}, {'timestamp': 1757710580.4085584, 'x': 6.1661651785e-08, 'y': 2.3879206879e-07, 'r': 2.4662483611e-07, 'theta': 75.521179199}, {'timestamp': 1757710580.5408251, 'x': 2.6241755791e-07, 'y': -2.6396349995e-07, 'r': 3.7220920035e-07, 'theta': -45.168266296}, {'timestamp': 1757710580.6703663, 'x': -2.2817995671e-07, 'y': -7.2718329136e-08, 'r': 2.3948706485e-07, 'theta': -162.32351685}, {'timestamp': 1757710580.799587, 'x': 2.8244028272e-07, 'y': 1.5249765895e-08, 'r': 2.8285168696e-07, 'theta': 3.0905649662}, {'timestamp': 1757710580.9305716, 'x': -3.4073315192e-07, 'y': 5.1483151076e-09, 'r': 3.4077203281e-07, 'theta': 179.13433838}, {'timestamp': 1757710581.0602012, 'x': -2.1973829689e-07, 'y': -1.0358068891e-07, 'r': 2.4292771172e-07, 'theta': -154.76164246}, {'timestamp': 1757710581.1910038, 'x': 4.2082368168e-07, 'y': 8.8927514241e-08, 'r': 4.3011698381e-07, 'theta': 11.932073593}, {'timestamp': 1757710581.3206563, 'x': -9.1041940209e-08, 'y': -1.7093258009e-07, 'r': 1.9366616755e-07, 'theta': -118.04060364}, {'timestamp': 1757710581.4508088, 'x': 1.5885972005e-07, 'y': 2.0291834346e-07, 'r': 2.5770575007e-07, 'theta': 51.943489075}, {'timestamp': 1757710581.5820935, 'x': -1.3249861297e-07, 'y': -1.7929676233e-07, 'r': 2.2294216251e-07, 'theta': -126.4640274}, {'timestamp': 1757710581.711082, 'x': -6.0975651195e-08, 'y': -4.3989240339e-07, 'r': 4.4409839006e-07, 'theta': -97.89175415}, {'timestamp': 1757710581.8418252, 'x': 2.3864990339e-07, 'y': 3.4052337128e-07, 'r': 4.1582441668e-07, 'theta': 54.975971222}, {'timestamp': 1757710581.9717004, 'x': -5.766977651e-08, 'y': -1.1043712078e-07, 'r': 1.2458795595e-07, 'theta': -117.57335663}, {'timestamp': 1757710582.103329, 'x': -1.7387726814e-07, 'y': 7.3995778394e-08, 'r': 1.8896739107e-07, 'theta': 156.94715881}, {'timestamp': 1757710582.230881, 'x': 5.2720565691e-08, 'y': -3.0513885463e-07, 'r': 3.0965978226e-07, 'theta': -80.19745636}, {'timestamp': 1757710582.3608851, 'x': 1.607526201e-07, 'y': -1.9864882006e-07, 'r': 2.555440517e-07, 'theta': -51.019165039}, {'timestamp': 1757710582.490407, 'x': -2.8135153229e-07, 'y': 2.0926945865e-07, 'r': 3.5064567783e-07, 'theta': 143.35809326}, {'timestamp': 1757710582.617054, 'x': -7.9800955177e-08, 'y': -1.1094906682e-07, 'r': 1.3666706877e-07, 'theta': -125.72585297}, {'timestamp': 1757710582.747653, 'x': 2.1525426064e-07, 'y': -3.0293696796e-07, 'r': 3.7162507738e-07, 'theta': -54.603996277}, {'timestamp': 1757710582.8806646, 'x': 2.5237634205e-08, 'y': 2.9126056234e-07, 'r': 2.9235192756e-07, 'theta': 85.047706604}, {'timestamp': 1757710583.0133297, 'x': -9.5355119356e-08, 'y': -2.4407785304e-07, 'r': 2.6204315873e-07, 'theta': -111.33934021}, {'timestamp': 1757710583.1420305, 'x': -2.95126938e-07, 'y': 8.7362252543e-08, 'r': 3.0778576843e-07, 'theta': 163.51039124}, {'timestamp': 1757710583.2714398, 'x': 1.1456845073e-07, 'y': -1.161963965e-07, 'r': 1.6317946461e-07, 'theta': -45.404186249}, {'timestamp': 1757710583.399029, 'x': -1.4109659219e-07, 'y': 3.153875241e-07, 'r': 3.4551052863e-07, 'theta': 114.10255432}, {'timestamp': 1757710583.5307837, 'x': -1.3351608175e-07, 'y': -3.1377152254e-07, 'r': 3.4099724644e-07, 'theta': -113.05072021}, {'timestamp': 1757710583.6605234, 'x': 1.9363741899e-07, 'y': -2.5310953333e-07, 'r': 3.1868461292e-07, 'theta': -52.582775116}]\n"
     ]
    }
   ],
   "source": [
    "data = lockin.get_all()\n",
    "print(data)"
   ]
  },
  {
   "cell_type": "code",
   "execution_count": null,
   "id": "8be592b7",
   "metadata": {},
   "outputs": [
    {
     "name": "stdout",
     "output_type": "stream",
     "text": [
      "Continuous transmission started.\n",
      "Continuous transmission stopped.\n"
     ]
    },
    {
     "data": {
      "text/plain": [
       "(1757711007.9363556, 22701925)"
      ]
     },
     "execution_count": 18,
     "metadata": {},
     "output_type": "execute_result"
    }
   ],
   "source": [
    "encoder.start_transmission()\n",
    "time.sleep(5)\n",
    "encoder.stop_transmission()\n",
    "encoder.get_latest()\n"
   ]
  },
  {
   "cell_type": "code",
   "execution_count": null,
   "id": "833ac6b2",
   "metadata": {},
   "outputs": [],
   "source": []
  }
 ],
 "metadata": {
  "kernelspec": {
   "display_name": "fts",
   "language": "python",
   "name": "python3"
  },
  "language_info": {
   "codemirror_mode": {
    "name": "ipython",
    "version": 3
   },
   "file_extension": ".py",
   "mimetype": "text/x-python",
   "name": "python",
   "nbconvert_exporter": "python",
   "pygments_lexer": "ipython3",
   "version": "3.13.5"
  }
 },
 "nbformat": 4,
 "nbformat_minor": 5
}
