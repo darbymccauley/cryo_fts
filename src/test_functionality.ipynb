{
 "cells": [
  {
   "cell_type": "code",
   "execution_count": null,
   "id": "a07b3a0d",
   "metadata": {},
   "outputs": [
    {
     "name": "stdout",
     "output_type": "stream",
     "text": [
      "Established connection to E201-9S V1.22 on COM4\n",
      "Established connection to Device 1 SN: 83850 (X-LSM200A-SV2) -> Connection 2 (ASCII Serial port: COM3) on Connection 2 (ASCII Serial port: COM3)\n",
      "Established connection to Prologix GPIB-USB Controller version 6.101 on COM5\n"
     ]
    }
   ],
   "source": [
    "from lockin import LockinController\n",
    "from mirror import MirrorController\n",
    "from encoder import EncoderController\n",
    "import time\n",
    "import pandas as pd\n",
    "mirror = MirrorController()\n",
    "#lockin = LockinController(gpib_address=8)\n",
    "#encoder = EncoderController()"
   ]
  },
  {
   "cell_type": "code",
   "execution_count": 4,
   "id": "e6e11779",
   "metadata": {},
   "outputs": [
    {
     "name": "stdout",
     "output_type": "stream",
     "text": [
      "Lock-in ID: Stanford_Research_Systems,SR865A,006369,1.55\n",
      "Continuous transmission started.\n",
      "Continuous transmission stopped.\n",
      "[{'timestamp': 1757712943.3516319, 'position': <Quantity -0.00048828 mm>, 'x': -1.941726282e-07, 'y': 1.3729832915e-07, 'r': 2.3781052505e-07, 'theta': 144.73606873}, {'timestamp': 1757712943.6016948, 'position': <Quantity 1.40087891 mm>, 'x': 8.9397413916e-09, 'y': 6.954665821e-08, 'r': 7.0118872486e-08, 'theta': 82.675186157}, {'timestamp': 1757712943.8490338, 'position': <Quantity 4.19970703 mm>, 'x': 2.0122153899e-07, 'y': -1.8789373257e-07, 'r': 2.7530742841e-07, 'theta': -43.038295746}, {'timestamp': 1757712944.0789535, 'position': <Quantity 6.50317383 mm>, 'x': -2.2814086265e-07, 'y': 1.3423361622e-07, 'r': 2.647015549e-07, 'theta': 149.52825928}, {'timestamp': 1757712944.3105607, 'position': <Quantity 8.77416992 mm>, 'x': -1.4657324243e-07, 'y': 1.9712480537e-08, 'r': 1.478928624e-07, 'theta': 172.34030151}, {'timestamp': 1757712944.5397243, 'position': <Quantity 11.11816406 mm>, 'x': 1.7637968597e-07, 'y': -4.5413159455e-08, 'r': 1.8213223996e-07, 'theta': -14.438560486}, {'timestamp': 1757712944.7715023, 'position': <Quantity 13.39208984 mm>, 'x': -1.0839220721e-07, 'y': -3.5681438249e-08, 'r': 1.1411414391e-07, 'theta': -161.77905273}, {'timestamp': 1757712945.0012734, 'position': <Quantity 15.73071289 mm>, 'x': -1.7772161698e-07, 'y': 2.4026246592e-07, 'r': 2.9884949981e-07, 'theta': 126.49023438}, {'timestamp': 1757712945.2392607, 'position': <Quantity 18.07788086 mm>, 'x': 1.5173927181e-07, 'y': -8.8725279568e-08, 'r': 1.7577536937e-07, 'theta': -30.315763474}, {'timestamp': 1757712945.468437, 'position': <Quantity 20.34887695 mm>, 'x': 2.6897970429e-07, 'y': -8.5142964679e-08, 'r': 2.8213364089e-07, 'theta': -17.564687729}, {'timestamp': 1757712945.6979032, 'position': <Quantity 22.68676758 mm>, 'x': -1.8743523356e-07, 'y': -1.0589511845e-07, 'r': 2.1528060756e-07, 'theta': -150.53486633}, {'timestamp': 1757712945.9295547, 'position': <Quantity 24.96289062 mm>, 'x': -1.4266079518e-07, 'y': 2.2760339391e-07, 'r': 2.6861758329e-07, 'theta': 122.07928467}, {'timestamp': 1757712946.164278, 'position': <Quantity 27.30932617 mm>, 'x': 1.7773315619e-07, 'y': -2.8710962852e-07, 'r': 3.3767000218e-07, 'theta': -58.240715027}, {'timestamp': 1757712946.3960176, 'position': <Quantity 29.6328125 mm>, 'x': 7.0254908557e-09, 'y': -3.0874269896e-07, 'r': 3.0882262081e-07, 'theta': -88.69644165}, {'timestamp': 1757712946.6327324, 'position': <Quantity 31.99560547 mm>, 'x': 2.4126449727e-09, 'y': -1.6404027292e-07, 'r': 1.6405800807e-07, 'theta': -89.157371521}, {'timestamp': 1757712946.862263, 'position': <Quantity 34.32348633 mm>, 'x': -2.5762048494e-07, 'y': 1.2899825208e-07, 'r': 2.881125738e-07, 'theta': 153.40150452}, {'timestamp': 1757712947.093844, 'position': <Quantity 36.61303711 mm>, 'x': -7.4310527509e-08, 'y': -2.7311008921e-07, 'r': 2.8303918498e-07, 'theta': -105.22111511}, {'timestamp': 1757712947.32391, 'position': <Quantity 38.93505859 mm>, 'x': 9.4646148696e-09, 'y': 6.6011097033e-08, 'r': 6.6686169475e-08, 'theta': 81.840583801}, {'timestamp': 1757712947.5566158, 'position': <Quantity 41.23095703 mm>, 'x': -7.3134735601e-08, 'y': -1.9050685296e-07, 'r': 2.0406260148e-07, 'theta': -111.00157166}, {'timestamp': 1757712947.7855444, 'position': <Quantity 43.55517578 mm>, 'x': 3.2984641507e-07, 'y': -7.8645442159e-08, 'r': 3.3909253716e-07, 'theta': -13.410672188}, {'timestamp': 1757712948.017392, 'position': <Quantity 45.83227539 mm>, 'x': 4.7818758731e-08, 'y': 2.3477568334e-07, 'r': 2.3959603368e-07, 'theta': 78.487548828}, {'timestamp': 1757712948.247643, 'position': <Quantity 48.18286133 mm>, 'x': 3.0284181207e-07, 'y': 4.0091780562e-08, 'r': 3.0548406471e-07, 'theta': 7.5412626266}]\n",
      "Encoder connection closed.\n",
      "Lock-in connection closed.\n"
     ]
    }
   ],
   "source": [
    "\n",
    "collected_data = []\n",
    "\n",
    "def data_handler(data):\n",
    "    collected_data.append(data)\n",
    "\n",
    "mirror.init()\n",
    "mirror.scan_and_collect(velocity=10, data_callback=data_handler, sample_rate=5)\n",
    "\n",
    "time.sleep(5)\n",
    "mirror.stop_scan()\n",
    "print(collected_data)\n",
    "mirror.close()"
   ]
  },
  {
   "cell_type": "code",
   "execution_count": 7,
   "id": "96cbf418",
   "metadata": {},
   "outputs": [
    {
     "data": {
      "text/html": [
       "<div>\n",
       "<style scoped>\n",
       "    .dataframe tbody tr th:only-of-type {\n",
       "        vertical-align: middle;\n",
       "    }\n",
       "\n",
       "    .dataframe tbody tr th {\n",
       "        vertical-align: top;\n",
       "    }\n",
       "\n",
       "    .dataframe thead th {\n",
       "        text-align: right;\n",
       "    }\n",
       "</style>\n",
       "<table border=\"1\" class=\"dataframe\">\n",
       "  <thead>\n",
       "    <tr style=\"text-align: right;\">\n",
       "      <th></th>\n",
       "      <th>timestamp</th>\n",
       "      <th>position</th>\n",
       "      <th>x</th>\n",
       "      <th>y</th>\n",
       "      <th>r</th>\n",
       "      <th>theta</th>\n",
       "    </tr>\n",
       "  </thead>\n",
       "  <tbody>\n",
       "    <tr>\n",
       "      <th>0</th>\n",
       "      <td>1.757713e+09</td>\n",
       "      <td>-0.00048828125 mm</td>\n",
       "      <td>-1.941726e-07</td>\n",
       "      <td>1.372983e-07</td>\n",
       "      <td>2.378105e-07</td>\n",
       "      <td>144.736069</td>\n",
       "    </tr>\n",
       "    <tr>\n",
       "      <th>1</th>\n",
       "      <td>1.757713e+09</td>\n",
       "      <td>1.40087890625 mm</td>\n",
       "      <td>8.939741e-09</td>\n",
       "      <td>6.954666e-08</td>\n",
       "      <td>7.011887e-08</td>\n",
       "      <td>82.675186</td>\n",
       "    </tr>\n",
       "    <tr>\n",
       "      <th>2</th>\n",
       "      <td>1.757713e+09</td>\n",
       "      <td>4.19970703125 mm</td>\n",
       "      <td>2.012215e-07</td>\n",
       "      <td>-1.878937e-07</td>\n",
       "      <td>2.753074e-07</td>\n",
       "      <td>-43.038296</td>\n",
       "    </tr>\n",
       "    <tr>\n",
       "      <th>3</th>\n",
       "      <td>1.757713e+09</td>\n",
       "      <td>6.503173828125 mm</td>\n",
       "      <td>-2.281409e-07</td>\n",
       "      <td>1.342336e-07</td>\n",
       "      <td>2.647016e-07</td>\n",
       "      <td>149.528259</td>\n",
       "    </tr>\n",
       "    <tr>\n",
       "      <th>4</th>\n",
       "      <td>1.757713e+09</td>\n",
       "      <td>8.774169921875 mm</td>\n",
       "      <td>-1.465732e-07</td>\n",
       "      <td>1.971248e-08</td>\n",
       "      <td>1.478929e-07</td>\n",
       "      <td>172.340302</td>\n",
       "    </tr>\n",
       "    <tr>\n",
       "      <th>5</th>\n",
       "      <td>1.757713e+09</td>\n",
       "      <td>11.1181640625 mm</td>\n",
       "      <td>1.763797e-07</td>\n",
       "      <td>-4.541316e-08</td>\n",
       "      <td>1.821322e-07</td>\n",
       "      <td>-14.438560</td>\n",
       "    </tr>\n",
       "    <tr>\n",
       "      <th>6</th>\n",
       "      <td>1.757713e+09</td>\n",
       "      <td>13.39208984375 mm</td>\n",
       "      <td>-1.083922e-07</td>\n",
       "      <td>-3.568144e-08</td>\n",
       "      <td>1.141141e-07</td>\n",
       "      <td>-161.779053</td>\n",
       "    </tr>\n",
       "    <tr>\n",
       "      <th>7</th>\n",
       "      <td>1.757713e+09</td>\n",
       "      <td>15.730712890625 mm</td>\n",
       "      <td>-1.777216e-07</td>\n",
       "      <td>2.402625e-07</td>\n",
       "      <td>2.988495e-07</td>\n",
       "      <td>126.490234</td>\n",
       "    </tr>\n",
       "    <tr>\n",
       "      <th>8</th>\n",
       "      <td>1.757713e+09</td>\n",
       "      <td>18.077880859375 mm</td>\n",
       "      <td>1.517393e-07</td>\n",
       "      <td>-8.872528e-08</td>\n",
       "      <td>1.757754e-07</td>\n",
       "      <td>-30.315763</td>\n",
       "    </tr>\n",
       "    <tr>\n",
       "      <th>9</th>\n",
       "      <td>1.757713e+09</td>\n",
       "      <td>20.348876953125 mm</td>\n",
       "      <td>2.689797e-07</td>\n",
       "      <td>-8.514296e-08</td>\n",
       "      <td>2.821336e-07</td>\n",
       "      <td>-17.564688</td>\n",
       "    </tr>\n",
       "    <tr>\n",
       "      <th>10</th>\n",
       "      <td>1.757713e+09</td>\n",
       "      <td>22.686767578125 mm</td>\n",
       "      <td>-1.874352e-07</td>\n",
       "      <td>-1.058951e-07</td>\n",
       "      <td>2.152806e-07</td>\n",
       "      <td>-150.534866</td>\n",
       "    </tr>\n",
       "    <tr>\n",
       "      <th>11</th>\n",
       "      <td>1.757713e+09</td>\n",
       "      <td>24.962890625 mm</td>\n",
       "      <td>-1.426608e-07</td>\n",
       "      <td>2.276034e-07</td>\n",
       "      <td>2.686176e-07</td>\n",
       "      <td>122.079285</td>\n",
       "    </tr>\n",
       "    <tr>\n",
       "      <th>12</th>\n",
       "      <td>1.757713e+09</td>\n",
       "      <td>27.309326171875 mm</td>\n",
       "      <td>1.777332e-07</td>\n",
       "      <td>-2.871096e-07</td>\n",
       "      <td>3.376700e-07</td>\n",
       "      <td>-58.240715</td>\n",
       "    </tr>\n",
       "    <tr>\n",
       "      <th>13</th>\n",
       "      <td>1.757713e+09</td>\n",
       "      <td>29.6328125 mm</td>\n",
       "      <td>7.025491e-09</td>\n",
       "      <td>-3.087427e-07</td>\n",
       "      <td>3.088226e-07</td>\n",
       "      <td>-88.696442</td>\n",
       "    </tr>\n",
       "    <tr>\n",
       "      <th>14</th>\n",
       "      <td>1.757713e+09</td>\n",
       "      <td>31.99560546875 mm</td>\n",
       "      <td>2.412645e-09</td>\n",
       "      <td>-1.640403e-07</td>\n",
       "      <td>1.640580e-07</td>\n",
       "      <td>-89.157372</td>\n",
       "    </tr>\n",
       "    <tr>\n",
       "      <th>15</th>\n",
       "      <td>1.757713e+09</td>\n",
       "      <td>34.323486328125 mm</td>\n",
       "      <td>-2.576205e-07</td>\n",
       "      <td>1.289983e-07</td>\n",
       "      <td>2.881126e-07</td>\n",
       "      <td>153.401505</td>\n",
       "    </tr>\n",
       "    <tr>\n",
       "      <th>16</th>\n",
       "      <td>1.757713e+09</td>\n",
       "      <td>36.613037109375 mm</td>\n",
       "      <td>-7.431053e-08</td>\n",
       "      <td>-2.731101e-07</td>\n",
       "      <td>2.830392e-07</td>\n",
       "      <td>-105.221115</td>\n",
       "    </tr>\n",
       "    <tr>\n",
       "      <th>17</th>\n",
       "      <td>1.757713e+09</td>\n",
       "      <td>38.93505859375 mm</td>\n",
       "      <td>9.464615e-09</td>\n",
       "      <td>6.601110e-08</td>\n",
       "      <td>6.668617e-08</td>\n",
       "      <td>81.840584</td>\n",
       "    </tr>\n",
       "    <tr>\n",
       "      <th>18</th>\n",
       "      <td>1.757713e+09</td>\n",
       "      <td>41.23095703125 mm</td>\n",
       "      <td>-7.313474e-08</td>\n",
       "      <td>-1.905069e-07</td>\n",
       "      <td>2.040626e-07</td>\n",
       "      <td>-111.001572</td>\n",
       "    </tr>\n",
       "    <tr>\n",
       "      <th>19</th>\n",
       "      <td>1.757713e+09</td>\n",
       "      <td>43.55517578125 mm</td>\n",
       "      <td>3.298464e-07</td>\n",
       "      <td>-7.864544e-08</td>\n",
       "      <td>3.390925e-07</td>\n",
       "      <td>-13.410672</td>\n",
       "    </tr>\n",
       "    <tr>\n",
       "      <th>20</th>\n",
       "      <td>1.757713e+09</td>\n",
       "      <td>45.832275390625 mm</td>\n",
       "      <td>4.781876e-08</td>\n",
       "      <td>2.347757e-07</td>\n",
       "      <td>2.395960e-07</td>\n",
       "      <td>78.487549</td>\n",
       "    </tr>\n",
       "    <tr>\n",
       "      <th>21</th>\n",
       "      <td>1.757713e+09</td>\n",
       "      <td>48.182861328125 mm</td>\n",
       "      <td>3.028418e-07</td>\n",
       "      <td>4.009178e-08</td>\n",
       "      <td>3.054841e-07</td>\n",
       "      <td>7.541263</td>\n",
       "    </tr>\n",
       "  </tbody>\n",
       "</table>\n",
       "</div>"
      ],
      "text/plain": [
       "       timestamp            position             x             y  \\\n",
       "0   1.757713e+09   -0.00048828125 mm -1.941726e-07  1.372983e-07   \n",
       "1   1.757713e+09    1.40087890625 mm  8.939741e-09  6.954666e-08   \n",
       "2   1.757713e+09    4.19970703125 mm  2.012215e-07 -1.878937e-07   \n",
       "3   1.757713e+09   6.503173828125 mm -2.281409e-07  1.342336e-07   \n",
       "4   1.757713e+09   8.774169921875 mm -1.465732e-07  1.971248e-08   \n",
       "5   1.757713e+09    11.1181640625 mm  1.763797e-07 -4.541316e-08   \n",
       "6   1.757713e+09   13.39208984375 mm -1.083922e-07 -3.568144e-08   \n",
       "7   1.757713e+09  15.730712890625 mm -1.777216e-07  2.402625e-07   \n",
       "8   1.757713e+09  18.077880859375 mm  1.517393e-07 -8.872528e-08   \n",
       "9   1.757713e+09  20.348876953125 mm  2.689797e-07 -8.514296e-08   \n",
       "10  1.757713e+09  22.686767578125 mm -1.874352e-07 -1.058951e-07   \n",
       "11  1.757713e+09     24.962890625 mm -1.426608e-07  2.276034e-07   \n",
       "12  1.757713e+09  27.309326171875 mm  1.777332e-07 -2.871096e-07   \n",
       "13  1.757713e+09       29.6328125 mm  7.025491e-09 -3.087427e-07   \n",
       "14  1.757713e+09   31.99560546875 mm  2.412645e-09 -1.640403e-07   \n",
       "15  1.757713e+09  34.323486328125 mm -2.576205e-07  1.289983e-07   \n",
       "16  1.757713e+09  36.613037109375 mm -7.431053e-08 -2.731101e-07   \n",
       "17  1.757713e+09   38.93505859375 mm  9.464615e-09  6.601110e-08   \n",
       "18  1.757713e+09   41.23095703125 mm -7.313474e-08 -1.905069e-07   \n",
       "19  1.757713e+09   43.55517578125 mm  3.298464e-07 -7.864544e-08   \n",
       "20  1.757713e+09  45.832275390625 mm  4.781876e-08  2.347757e-07   \n",
       "21  1.757713e+09  48.182861328125 mm  3.028418e-07  4.009178e-08   \n",
       "\n",
       "               r       theta  \n",
       "0   2.378105e-07  144.736069  \n",
       "1   7.011887e-08   82.675186  \n",
       "2   2.753074e-07  -43.038296  \n",
       "3   2.647016e-07  149.528259  \n",
       "4   1.478929e-07  172.340302  \n",
       "5   1.821322e-07  -14.438560  \n",
       "6   1.141141e-07 -161.779053  \n",
       "7   2.988495e-07  126.490234  \n",
       "8   1.757754e-07  -30.315763  \n",
       "9   2.821336e-07  -17.564688  \n",
       "10  2.152806e-07 -150.534866  \n",
       "11  2.686176e-07  122.079285  \n",
       "12  3.376700e-07  -58.240715  \n",
       "13  3.088226e-07  -88.696442  \n",
       "14  1.640580e-07  -89.157372  \n",
       "15  2.881126e-07  153.401505  \n",
       "16  2.830392e-07 -105.221115  \n",
       "17  6.668617e-08   81.840584  \n",
       "18  2.040626e-07 -111.001572  \n",
       "19  3.390925e-07  -13.410672  \n",
       "20  2.395960e-07   78.487549  \n",
       "21  3.054841e-07    7.541263  "
      ]
     },
     "execution_count": 7,
     "metadata": {},
     "output_type": "execute_result"
    }
   ],
   "source": [
    "pd.DataFrame(collected_data)"
   ]
  },
  {
   "cell_type": "code",
   "execution_count": 3,
   "id": "f7c055ff",
   "metadata": {},
   "outputs": [
    {
     "name": "stdout",
     "output_type": "stream",
     "text": [
      "Lock-in ID: Stanford_Research_Systems,SR865A,006369,1.55\n"
     ]
    }
   ],
   "source": [
    "lockin.init()"
   ]
  },
  {
   "cell_type": "code",
   "execution_count": 4,
   "id": "0112a0cb",
   "metadata": {},
   "outputs": [
    {
     "name": "stdout",
     "output_type": "stream",
     "text": [
      "Reference Frequency (Hz): 1220.703125\n"
     ]
    }
   ],
   "source": [
    "freq = lockin.write('FREQ?', read=True)\n",
    "print(\"Reference Frequency (Hz):\", freq)"
   ]
  },
  {
   "cell_type": "code",
   "execution_count": 5,
   "id": "32ba18f2",
   "metadata": {},
   "outputs": [
    {
     "data": {
      "text/plain": [
       "(5.379981971e-08, 1.5550888577e-07, 1.6455221896e-07, 70.916435242)"
      ]
     },
     "execution_count": 5,
     "metadata": {},
     "output_type": "execute_result"
    }
   ],
   "source": [
    "lockin.get_x_y_r_theta()"
   ]
  },
  {
   "cell_type": "code",
   "execution_count": 6,
   "id": "f2d28252",
   "metadata": {},
   "outputs": [
    {
     "data": {
      "text/plain": [
       "1220.703125"
      ]
     },
     "execution_count": 6,
     "metadata": {},
     "output_type": "execute_result"
    }
   ],
   "source": [
    "lockin.set_freq(900)\n",
    "lockin.get_freq()"
   ]
  },
  {
   "cell_type": "code",
   "execution_count": 7,
   "id": "d002df2b",
   "metadata": {},
   "outputs": [
    {
     "data": {
      "text/plain": [
       "0.012299999595"
      ]
     },
     "execution_count": 7,
     "metadata": {},
     "output_type": "execute_result"
    }
   ],
   "source": [
    "lockin.get_amp()"
   ]
  },
  {
   "cell_type": "code",
   "execution_count": 8,
   "id": "bf4e1a26",
   "metadata": {},
   "outputs": [],
   "source": [
    "lockin.set_amp(0.0123)"
   ]
  },
  {
   "cell_type": "code",
   "execution_count": 9,
   "id": "7b692c39",
   "metadata": {},
   "outputs": [
    {
     "data": {
      "text/plain": [
       "8.0"
      ]
     },
     "execution_count": 9,
     "metadata": {},
     "output_type": "execute_result"
    }
   ],
   "source": [
    "lockin.set_timeconstant(8)\n",
    "lockin.get_timeconstant()"
   ]
  },
  {
   "cell_type": "code",
   "execution_count": 10,
   "id": "97301d9d",
   "metadata": {},
   "outputs": [
    {
     "data": {
      "text/plain": [
       "20.0"
      ]
     },
     "execution_count": 10,
     "metadata": {},
     "output_type": "execute_result"
    }
   ],
   "source": [
    "lockin.set_sens(20)\n",
    "lockin.get_sens()"
   ]
  },
  {
   "cell_type": "code",
   "execution_count": 11,
   "id": "c0756f71",
   "metadata": {},
   "outputs": [
    {
     "name": "stdout",
     "output_type": "stream",
     "text": [
      "Continuous transmission started.\n",
      "Continuous transmission stopped.\n"
     ]
    }
   ],
   "source": [
    "lockin.start_transmission(sample_rate= 10)\n",
    "time.sleep(5)\n",
    "lockin.stop_transmission()\n"
   ]
  },
  {
   "cell_type": "code",
   "execution_count": 12,
   "id": "ba2e3a19",
   "metadata": {},
   "outputs": [
    {
     "name": "stdout",
     "output_type": "stream",
     "text": [
      "[{'timestamp': 1757710578.700898, 'x': 2.6661496122e-07, 'y': -1.3448176617e-07, 'r': 2.9861161011e-07, 'theta': -26.766576767}, {'timestamp': 1757710578.8329692, 'x': -3.0689969321e-07, 'y': -1.8301832938e-07, 'r': 3.5732776382e-07, 'theta': -149.19044495}, {'timestamp': 1757710578.9624653, 'x': 2.4852823799e-07, 'y': 6.4983758818e-08, 'r': 2.5688356686e-07, 'theta': 14.653312683}, {'timestamp': 1757710579.0894275, 'x': 1.3779398955e-07, 'y': -2.1672694572e-07, 'r': 2.5682243177e-07, 'theta': -57.55198288}, {'timestamp': 1757710579.2189715, 'x': -4.6896735384e-09, 'y': -6.2719777816e-08, 'r': 6.2894855546e-08, 'theta': -94.276145935}, {'timestamp': 1757710579.350185, 'x': 3.6354239796e-07, 'y': -1.2987352704e-07, 'r': 3.8604432007e-07, 'theta': -19.658988953}, {'timestamp': 1757710579.4827163, 'x': -2.6979810386e-08, 'y': -2.4604887017e-07, 'r': 2.4752367267e-07, 'theta': -96.257606506}, {'timestamp': 1757710579.6223652, 'x': 1.8264447021e-07, 'y': 2.488822588e-07, 'r': 3.0870921819e-07, 'theta': 53.726581573}, {'timestamp': 1757710579.7516673, 'x': -1.3128778065e-08, 'y': -1.4960379247e-07, 'r': 1.5017876365e-07, 'theta': -95.01525116}, {'timestamp': 1757710579.8885827, 'x': -1.6490969301e-07, 'y': 1.3137285926e-08, 'r': 1.6543215509e-07, 'theta': 175.44522095}, {'timestamp': 1757710580.0158522, 'x': 1.0925170102e-07, 'y': 1.4871716303e-07, 'r': 1.8453383177e-07, 'theta': 53.697975159}, {'timestamp': 1757710580.1471171, 'x': -1.9109749871e-07, 'y': -3.4358745893e-07, 'r': 3.9315466438e-07, 'theta': -119.0820694}, {'timestamp': 1757710580.2769353, 'x': -5.0110518401e-08, 'y': -3.0623871794e-07, 'r': 3.1031149206e-07, 'theta': -99.293067932}, {'timestamp': 1757710580.4085584, 'x': 6.1661651785e-08, 'y': 2.3879206879e-07, 'r': 2.4662483611e-07, 'theta': 75.521179199}, {'timestamp': 1757710580.5408251, 'x': 2.6241755791e-07, 'y': -2.6396349995e-07, 'r': 3.7220920035e-07, 'theta': -45.168266296}, {'timestamp': 1757710580.6703663, 'x': -2.2817995671e-07, 'y': -7.2718329136e-08, 'r': 2.3948706485e-07, 'theta': -162.32351685}, {'timestamp': 1757710580.799587, 'x': 2.8244028272e-07, 'y': 1.5249765895e-08, 'r': 2.8285168696e-07, 'theta': 3.0905649662}, {'timestamp': 1757710580.9305716, 'x': -3.4073315192e-07, 'y': 5.1483151076e-09, 'r': 3.4077203281e-07, 'theta': 179.13433838}, {'timestamp': 1757710581.0602012, 'x': -2.1973829689e-07, 'y': -1.0358068891e-07, 'r': 2.4292771172e-07, 'theta': -154.76164246}, {'timestamp': 1757710581.1910038, 'x': 4.2082368168e-07, 'y': 8.8927514241e-08, 'r': 4.3011698381e-07, 'theta': 11.932073593}, {'timestamp': 1757710581.3206563, 'x': -9.1041940209e-08, 'y': -1.7093258009e-07, 'r': 1.9366616755e-07, 'theta': -118.04060364}, {'timestamp': 1757710581.4508088, 'x': 1.5885972005e-07, 'y': 2.0291834346e-07, 'r': 2.5770575007e-07, 'theta': 51.943489075}, {'timestamp': 1757710581.5820935, 'x': -1.3249861297e-07, 'y': -1.7929676233e-07, 'r': 2.2294216251e-07, 'theta': -126.4640274}, {'timestamp': 1757710581.711082, 'x': -6.0975651195e-08, 'y': -4.3989240339e-07, 'r': 4.4409839006e-07, 'theta': -97.89175415}, {'timestamp': 1757710581.8418252, 'x': 2.3864990339e-07, 'y': 3.4052337128e-07, 'r': 4.1582441668e-07, 'theta': 54.975971222}, {'timestamp': 1757710581.9717004, 'x': -5.766977651e-08, 'y': -1.1043712078e-07, 'r': 1.2458795595e-07, 'theta': -117.57335663}, {'timestamp': 1757710582.103329, 'x': -1.7387726814e-07, 'y': 7.3995778394e-08, 'r': 1.8896739107e-07, 'theta': 156.94715881}, {'timestamp': 1757710582.230881, 'x': 5.2720565691e-08, 'y': -3.0513885463e-07, 'r': 3.0965978226e-07, 'theta': -80.19745636}, {'timestamp': 1757710582.3608851, 'x': 1.607526201e-07, 'y': -1.9864882006e-07, 'r': 2.555440517e-07, 'theta': -51.019165039}, {'timestamp': 1757710582.490407, 'x': -2.8135153229e-07, 'y': 2.0926945865e-07, 'r': 3.5064567783e-07, 'theta': 143.35809326}, {'timestamp': 1757710582.617054, 'x': -7.9800955177e-08, 'y': -1.1094906682e-07, 'r': 1.3666706877e-07, 'theta': -125.72585297}, {'timestamp': 1757710582.747653, 'x': 2.1525426064e-07, 'y': -3.0293696796e-07, 'r': 3.7162507738e-07, 'theta': -54.603996277}, {'timestamp': 1757710582.8806646, 'x': 2.5237634205e-08, 'y': 2.9126056234e-07, 'r': 2.9235192756e-07, 'theta': 85.047706604}, {'timestamp': 1757710583.0133297, 'x': -9.5355119356e-08, 'y': -2.4407785304e-07, 'r': 2.6204315873e-07, 'theta': -111.33934021}, {'timestamp': 1757710583.1420305, 'x': -2.95126938e-07, 'y': 8.7362252543e-08, 'r': 3.0778576843e-07, 'theta': 163.51039124}, {'timestamp': 1757710583.2714398, 'x': 1.1456845073e-07, 'y': -1.161963965e-07, 'r': 1.6317946461e-07, 'theta': -45.404186249}, {'timestamp': 1757710583.399029, 'x': -1.4109659219e-07, 'y': 3.153875241e-07, 'r': 3.4551052863e-07, 'theta': 114.10255432}, {'timestamp': 1757710583.5307837, 'x': -1.3351608175e-07, 'y': -3.1377152254e-07, 'r': 3.4099724644e-07, 'theta': -113.05072021}, {'timestamp': 1757710583.6605234, 'x': 1.9363741899e-07, 'y': -2.5310953333e-07, 'r': 3.1868461292e-07, 'theta': -52.582775116}]\n"
     ]
    }
   ],
   "source": [
    "data = lockin.get_all()\n",
    "print(data)"
   ]
  },
  {
   "cell_type": "code",
   "execution_count": 18,
   "id": "8be592b7",
   "metadata": {},
   "outputs": [
    {
     "name": "stdout",
     "output_type": "stream",
     "text": [
      "Continuous transmission started.\n",
      "Continuous transmission stopped.\n"
     ]
    },
    {
     "data": {
      "text/plain": [
       "(1757711007.9363556, 22701925)"
      ]
     },
     "execution_count": 18,
     "metadata": {},
     "output_type": "execute_result"
    }
   ],
   "source": [
    "encoder.start_transmission()\n",
    "time.sleep(5)\n",
    "encoder.stop_transmission()\n",
    "encoder.get_latest()\n"
   ]
  },
  {
   "cell_type": "code",
   "execution_count": null,
   "id": "833ac6b2",
   "metadata": {},
   "outputs": [],
   "source": []
  }
 ],
 "metadata": {
  "kernelspec": {
   "display_name": "fts",
   "language": "python",
   "name": "python3"
  },
  "language_info": {
   "codemirror_mode": {
    "name": "ipython",
    "version": 3
   },
   "file_extension": ".py",
   "mimetype": "text/x-python",
   "name": "python",
   "nbconvert_exporter": "python",
   "pygments_lexer": "ipython3",
   "version": "3.13.5"
  }
 },
 "nbformat": 4,
 "nbformat_minor": 5
}
